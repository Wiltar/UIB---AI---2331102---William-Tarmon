{
 "cells": [
  {
   "cell_type": "code",
   "execution_count": null,
   "id": "ab2d7918-d91a-4c7f-9fb6-2d70d21f59b1",
   "metadata": {},
   "outputs": [],
   "source": [
    "import pandas as pd              # Baca & olah dataset CSV\n",
    "import numpy as np               # Perhitungan matematis\n",
    "import matplotlib.pyplot as plt  # Visualisasi grafik\n",
    "import skfuzzy as fuzz           # Library utama untuk fuzzy logic\n",
    "from skfuzzy import control as ctrl"
   ]
  }
 ],
 "metadata": {
  "kernelspec": {
   "display_name": "Python 3 (ipykernel)",
   "language": "python",
   "name": "python3"
  },
  "language_info": {
   "codemirror_mode": {
    "name": "ipython",
    "version": 3
   },
   "file_extension": ".py",
   "mimetype": "text/x-python",
   "name": "python",
   "nbconvert_exporter": "python",
   "pygments_lexer": "ipython3",
   "version": "3.13.5"
  }
 },
 "nbformat": 4,
 "nbformat_minor": 5
}
